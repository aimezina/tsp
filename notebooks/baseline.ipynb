{
 "cells": [
  {
   "cell_type": "markdown",
   "metadata": {
    "tags": []
   },
   "source": [
    "### Preparatory work"
   ]
  },
  {
   "cell_type": "markdown",
   "metadata": {
    "tags": []
   },
   "source": [
    "#### Import lib's"
   ]
  },
  {
   "cell_type": "code",
   "execution_count": 5,
   "metadata": {
    "tags": []
   },
   "outputs": [],
   "source": [
    "import os\n",
    "import random\n",
    "from typing import List\n",
    "from IPython.display import clear_output\n",
    "from PIL import Image\n",
    "import logging\n",
    "\n",
    "import tqdm\n",
    "import numpy as np\n",
    "import pandas as pd\n",
    "import matplotlib.pyplot as plt\n",
    "import seaborn as sns\n",
    "import torch\n",
    "import torch.nn as nn\n",
    "from torchvision import transforms\n",
    "from torch.utils.data import Dataset\n",
    "from sklearn.model_selection import train_test_split\n",
    "from sklearn.metrics import r2_score, mean_absolute_error, mean_squared_error"
   ]
  },
  {
   "cell_type": "markdown",
   "metadata": {},
   "source": [
    "#### Download data from kaggle"
   ]
  },
  {
   "cell_type": "code",
   "execution_count": 6,
   "metadata": {},
   "outputs": [],
   "source": [
    "# !chmod 600 {os.path.join(os.path.expanduser('~'), '.kaggle', 'kaggle.json')} # for safe download\n",
    "# !kaggle datasets download -d jeffheaton/traveling-salesman-computer-vision\n",
    "# !mv traveling-salesman-computer-vision.zip ../data/raw/\n",
    "# !unzip ../data/raw/traveling-salesman-computer-vision.zip\n",
    "# !rm -rf ../data/raw/traveling-salesman-computer-vision.zip"
   ]
  },
  {
   "cell_type": "markdown",
   "metadata": {},
   "source": [
    "#### Set logging config"
   ]
  },
  {
   "cell_type": "code",
   "execution_count": 7,
   "metadata": {},
   "outputs": [],
   "source": [
    "logging.basicConfig(format='%(asctime)s - %(message)s', level=logging.INFO)"
   ]
  },
  {
   "cell_type": "markdown",
   "metadata": {},
   "source": [
    "#### Set random seed"
   ]
  },
  {
   "cell_type": "code",
   "execution_count": 8,
   "metadata": {
    "tags": []
   },
   "outputs": [],
   "source": [
    "SEED = 0\n",
    "\n",
    "def set_seed_everything(seed: int):\n",
    "    \"\"\"\n",
    "    Set random seed everything\n",
    "    \"\"\"\n",
    "    \n",
    "    random.seed(seed)\n",
    "    os.environ['PYTHONHASHSEED'] = str(seed)\n",
    "    np.random.seed(seed)\n",
    "    torch.manual_seed(seed)\n",
    "    torch.cuda.manual_seed(seed)\n",
    "    torch.backends.cudnn.deterministic = True\n",
    "    torch.backends.cudnn.benchmark = True\n",
    "    \n",
    "set_seed_everything(SEED)"
   ]
  },
  {
   "cell_type": "markdown",
   "metadata": {},
   "source": [
    "#### Set plot settings"
   ]
  },
  {
   "cell_type": "code",
   "execution_count": 9,
   "metadata": {
    "tags": []
   },
   "outputs": [],
   "source": [
    "sns.set(rc = {'figure.figsize':(11.7, 8.27)})\n",
    "sns.set_style(style = 'white')"
   ]
  },
  {
   "cell_type": "markdown",
   "metadata": {},
   "source": [
    "#### Check CUDA"
   ]
  },
  {
   "cell_type": "code",
   "execution_count": 10,
   "metadata": {
    "tags": []
   },
   "outputs": [
    {
     "name": "stdout",
     "output_type": "stream",
     "text": [
      "Device is cpu\n"
     ]
    }
   ],
   "source": [
    "if torch.cuda.is_available():\n",
    "    device = 'cuda'\n",
    "else:\n",
    "    device = 'cpu'\n",
    "    \n",
    "print(f'Device is {device}')"
   ]
  },
  {
   "cell_type": "markdown",
   "metadata": {},
   "source": [
    "#### Set data path"
   ]
  },
  {
   "cell_type": "code",
   "execution_count": 12,
   "metadata": {
    "tags": []
   },
   "outputs": [],
   "source": [
    "if os.path.exists('../kaggle'):\n",
    "    DATA_PATH = os.path.abspath('/kaggle/input')\n",
    "    dirname, _, filenames = os.walk(DATA_PATH)\n",
    "else:\n",
    "    DATA_PATH = os.path.abspath('../data/raw/tsp-cv') \n",
    "    dirname, filenames, _, _ = os.walk(os.path.abspath('../data/raw'))"
   ]
  },
  {
   "cell_type": "markdown",
   "metadata": {},
   "source": [
    "#### Define constant"
   ]
  },
  {
   "cell_type": "code",
   "execution_count": 13,
   "metadata": {},
   "outputs": [],
   "source": [
    "VAL_SIZE = 0.35\n",
    "TRANSFORMS = transforms.Compose([\n",
    "    transforms.Resize((528, 528)),\n",
    "])\n",
    "NUM_EPOCH = 10"
   ]
  },
  {
   "cell_type": "markdown",
   "metadata": {},
   "source": [
    "#### Define class fow working with data"
   ]
  },
  {
   "cell_type": "code",
   "execution_count": 14,
   "metadata": {
    "tags": []
   },
   "outputs": [],
   "source": [
    "class ImageDataset(Dataset):\n",
    "    \"\"\"\n",
    "    Class for working with image dataset\n",
    "    \"\"\"\n",
    "    \n",
    "    def __init__(\n",
    "        self, \n",
    "        dataset: pd.DataFrame, \n",
    "        image_path: str, \n",
    "        transform: transforms.Compose = None,\n",
    "        image_column_name: str = 'image',\n",
    "        target_column_name: str = 'label',\n",
    "        train_sample: bool = True\n",
    "    ):\n",
    "        self.dataset = dataset\n",
    "        self.images = image_path\n",
    "        self.transform = transform\n",
    "        self.image_column_name = image_column_name\n",
    "        self.target_column_name = target_column_name\n",
    "        self.train_sample = train_sample\n",
    "        \n",
    "    def __len__(self):\n",
    "        \"\"\"\n",
    "        Method which return the number of objects\n",
    "        \n",
    "        Return:\n",
    "            Lenght of dataset\n",
    "        \"\"\"\n",
    "        \n",
    "        return len(self.dataset)\n",
    "\n",
    "    def __getitem__(self, idx: int):\n",
    "        \"\"\"\n",
    "        Return item: object-label\n",
    "        \n",
    "        Parametres:\n",
    "            idx: index of object\n",
    "        Return:\n",
    "            Image tensor and his label - fro train and validation samples;\n",
    "            for test sample return image tensor and index of image\n",
    "        \"\"\"\n",
    "        \n",
    "        try:\n",
    "            img_file_name = self.dataset.loc[idx][self.image_column_name]\n",
    "        except KeyError: \n",
    "            error_msg = f'KeyError: Object by index {idx} not found'\n",
    "            return error_msg, idx\n",
    "\n",
    "        image_path = os.path.join(self.images, img_file_name)\n",
    "        img = Image.open(image_path)\n",
    "\n",
    "        transformer = transforms.ToTensor()\n",
    "        img_tensor = transformer(img)\n",
    "\n",
    "        if self.transform:\n",
    "            img_tensor = self.transform(img_tensor)\n",
    "\n",
    "        if self.train_sample:\n",
    "            label = self.dataset.loc[idx][self.target_column_name]\n",
    "            return img_tensor, label\n",
    "        else:\n",
    "            index = self.dataset.loc[idx]['id']\n",
    "            return img_tensor, index\n",
    "        \n",
    "    @staticmethod    \n",
    "    def get_image(data_path: str) -> str:\n",
    "        \"\"\"\n",
    "        Get image by path excluding tabular data (csv)\n",
    "        \"\"\"\n",
    "\n",
    "        for dirname, _, filenames in os.walk(data_path):\n",
    "            for filename in filenames:\n",
    "                if '.csv' in filename:\n",
    "                    continue\n",
    "                else:\n",
    "                    path = os.path.join(dirname, filename)\n",
    "                    yield path\n",
    "    \n",
    "    @staticmethod\n",
    "    def get_image_tensor(image_path: str) -> torch.Tensor:\n",
    "        \"\"\"\n",
    "        Get image in tesor by file name\n",
    "        \"\"\"\n",
    "\n",
    "        try:\n",
    "            img = Image.open(image_path)\n",
    "\n",
    "        except FileNotFoundError:\n",
    "            error_msg = 'File not found'\n",
    "            return error_msg\n",
    "\n",
    "        transformer = transforms.ToTensor()\n",
    "        img_tensor = transformer(img)\n",
    "        return img_tensor\n",
    "    \n",
    "    @staticmethod \n",
    "    def get_parsing_key(key: str):\n",
    "        \"\"\"\n",
    "        Parsing keys of image and return dimensions (height and weight) and city count\n",
    "        \"\"\"\n",
    "\n",
    "        key_list = key.split('-')\n",
    "\n",
    "        height = int(key_list[0].split('x')[0])\n",
    "        weight = int(key_list[0].split('x')[1])\n",
    "\n",
    "        citys = int(key_list[1])\n",
    "\n",
    "        return height, weight, citys\n",
    "\n",
    "# Init generator\n",
    "images = ImageDataset.get_image(DATA_PATH)"
   ]
  },
  {
   "cell_type": "markdown",
   "metadata": {},
   "source": [
    "#### Define other functions"
   ]
  },
  {
   "cell_type": "code",
   "execution_count": 15,
   "metadata": {},
   "outputs": [],
   "source": [
    "def plot_history(\n",
    "    train_history: List, \n",
    "    val_history: List, \n",
    "    title: str = 'loss'\n",
    "):\n",
    "    \"\"\"\n",
    "    Plot figure with metrics on train and validation samples\n",
    "    \n",
    "    Parametres:\n",
    "        train_history: list of metrics on train sample\n",
    "        val_history: list of metrics on validation sample\n",
    "        title: name of figure\n",
    "    \"\"\"\n",
    "    \n",
    "    plt.figure()\n",
    "    plt.title(f'{title}')\n",
    "    plt.plot(train_history, label='train', zorder=1)\n",
    "    \n",
    "    points = np.array(val_history)\n",
    "    steps = list(\n",
    "        range(\n",
    "            0, \n",
    "            len(train_history) + 1, \n",
    "            int(len(train_history) / len(val_history))\n",
    "        )\n",
    "    )[1:]\n",
    "    \n",
    "    plt.scatter(\n",
    "        steps, \n",
    "        val_history, \n",
    "        marker = '+', \n",
    "        s = 180, \n",
    "        c = 'orange', \n",
    "        label = 'val', \n",
    "        zorder = 2\n",
    "    )\n",
    "    \n",
    "    plt.xlabel('Epoch')\n",
    "    plt.legend(loc = 'best')\n",
    "    plt.grid()\n",
    "    plt.show()"
   ]
  },
  {
   "cell_type": "markdown",
   "metadata": {},
   "source": [
    "#### Test"
   ]
  },
  {
   "cell_type": "code",
   "execution_count": 17,
   "metadata": {
    "tags": []
   },
   "outputs": [],
   "source": [
    "image_path = next(images)\n",
    "img = Image.open(image_path)\n",
    "img_tesnor = ImageDataset.get_image_tensor(image_path)\n",
    "plt.imshow(img)"
   ]
  },
  {
   "cell_type": "markdown",
   "metadata": {
    "jp-MarkdownHeadingCollapsed": true,
    "tags": []
   },
   "source": [
    "### Get tabular data files"
   ]
  },
  {
   "cell_type": "code",
   "execution_count": 164,
   "metadata": {
    "tags": []
   },
   "outputs": [
    {
     "data": {
      "text/plain": [
       "['tsp-all.csv', 'test.csv', 'train.csv']"
      ]
     },
     "execution_count": 164,
     "metadata": {},
     "output_type": "execute_result"
    }
   ],
   "source": [
    "tabular_data = []\n",
    "\n",
    "for name in list(filenames[2]):\n",
    "    if '.csv' in name:\n",
    "        tabular_data.append(name)\n",
    "        \n",
    "tabular_data"
   ]
  },
  {
   "cell_type": "code",
   "execution_count": 165,
   "metadata": {
    "tags": []
   },
   "outputs": [],
   "source": [
    "tsp_all = pd.read_csv(os.path.join(filenames[0], tabular_data[0]))\n",
    "test_data = pd.read_csv(os.path.join(filenames[0], tabular_data[1]))\n",
    "train_data = pd.read_csv(os.path.join(filenames[0], tabular_data[2]))"
   ]
  },
  {
   "cell_type": "code",
   "execution_count": 166,
   "metadata": {
    "tags": []
   },
   "outputs": [
    {
     "data": {
      "text/html": [
       "<div>\n",
       "<style scoped>\n",
       "    .dataframe tbody tr th:only-of-type {\n",
       "        vertical-align: middle;\n",
       "    }\n",
       "\n",
       "    .dataframe tbody tr th {\n",
       "        vertical-align: top;\n",
       "    }\n",
       "\n",
       "    .dataframe thead th {\n",
       "        text-align: right;\n",
       "    }\n",
       "</style>\n",
       "<table border=\"1\" class=\"dataframe\">\n",
       "  <thead>\n",
       "    <tr style=\"text-align: right;\">\n",
       "      <th></th>\n",
       "      <th>id</th>\n",
       "      <th>filename</th>\n",
       "      <th>distance</th>\n",
       "      <th>key</th>\n",
       "    </tr>\n",
       "  </thead>\n",
       "  <tbody>\n",
       "    <tr>\n",
       "      <th>0</th>\n",
       "      <td>0</td>\n",
       "      <td>0.jpg</td>\n",
       "      <td>83110</td>\n",
       "      <td>503x673-270-83110.jpg</td>\n",
       "    </tr>\n",
       "    <tr>\n",
       "      <th>1</th>\n",
       "      <td>1</td>\n",
       "      <td>1.jpg</td>\n",
       "      <td>1035</td>\n",
       "      <td>906x222-10-1035.jpg</td>\n",
       "    </tr>\n",
       "  </tbody>\n",
       "</table>\n",
       "</div>"
      ],
      "text/plain": [
       "   id filename  distance                    key\n",
       "0   0    0.jpg     83110  503x673-270-83110.jpg\n",
       "1   1    1.jpg      1035    906x222-10-1035.jpg"
      ]
     },
     "execution_count": 166,
     "metadata": {},
     "output_type": "execute_result"
    }
   ],
   "source": [
    "tsp_all.head(2)"
   ]
  },
  {
   "cell_type": "code",
   "execution_count": 167,
   "metadata": {
    "tags": []
   },
   "outputs": [],
   "source": [
    "# Merge \"all\" dataset to main by id and key\n",
    "train_data = pd.merge(tsp_all[['id', 'key']], train_data, how = 'inner', on = 'id')\n",
    "test_data = pd.merge(tsp_all[['id', 'key']], test_data, how = 'inner', on = 'id')"
   ]
  },
  {
   "cell_type": "code",
   "execution_count": 168,
   "metadata": {
    "tags": []
   },
   "outputs": [
    {
     "data": {
      "text/html": [
       "<div>\n",
       "<style scoped>\n",
       "    .dataframe tbody tr th:only-of-type {\n",
       "        vertical-align: middle;\n",
       "    }\n",
       "\n",
       "    .dataframe tbody tr th {\n",
       "        vertical-align: top;\n",
       "    }\n",
       "\n",
       "    .dataframe thead th {\n",
       "        text-align: right;\n",
       "    }\n",
       "</style>\n",
       "<table border=\"1\" class=\"dataframe\">\n",
       "  <thead>\n",
       "    <tr style=\"text-align: right;\">\n",
       "      <th></th>\n",
       "      <th>id</th>\n",
       "      <th>key</th>\n",
       "      <th>filename</th>\n",
       "      <th>distance</th>\n",
       "    </tr>\n",
       "  </thead>\n",
       "  <tbody>\n",
       "    <tr>\n",
       "      <th>0</th>\n",
       "      <td>0</td>\n",
       "      <td>503x673-270-83110.jpg</td>\n",
       "      <td>0.jpg</td>\n",
       "      <td>83110</td>\n",
       "    </tr>\n",
       "    <tr>\n",
       "      <th>1</th>\n",
       "      <td>1</td>\n",
       "      <td>906x222-10-1035.jpg</td>\n",
       "      <td>1.jpg</td>\n",
       "      <td>1035</td>\n",
       "    </tr>\n",
       "  </tbody>\n",
       "</table>\n",
       "</div>"
      ],
      "text/plain": [
       "   id                    key filename  distance\n",
       "0   0  503x673-270-83110.jpg    0.jpg     83110\n",
       "1   1    906x222-10-1035.jpg    1.jpg      1035"
      ]
     },
     "execution_count": 168,
     "metadata": {},
     "output_type": "execute_result"
    }
   ],
   "source": [
    "train_data.head(2)"
   ]
  },
  {
   "cell_type": "code",
   "execution_count": 169,
   "metadata": {
    "tags": []
   },
   "outputs": [
    {
     "data": {
      "text/html": [
       "<div>\n",
       "<style scoped>\n",
       "    .dataframe tbody tr th:only-of-type {\n",
       "        vertical-align: middle;\n",
       "    }\n",
       "\n",
       "    .dataframe tbody tr th {\n",
       "        vertical-align: top;\n",
       "    }\n",
       "\n",
       "    .dataframe thead th {\n",
       "        text-align: right;\n",
       "    }\n",
       "</style>\n",
       "<table border=\"1\" class=\"dataframe\">\n",
       "  <thead>\n",
       "    <tr style=\"text-align: right;\">\n",
       "      <th></th>\n",
       "      <th>id</th>\n",
       "      <th>key</th>\n",
       "      <th>filename</th>\n",
       "    </tr>\n",
       "  </thead>\n",
       "  <tbody>\n",
       "    <tr>\n",
       "      <th>0</th>\n",
       "      <td>16019</td>\n",
       "      <td>710x395-392-8505.jpg</td>\n",
       "      <td>16019.jpg</td>\n",
       "    </tr>\n",
       "    <tr>\n",
       "      <th>1</th>\n",
       "      <td>16020</td>\n",
       "      <td>425x651-195-55783.jpg</td>\n",
       "      <td>16020.jpg</td>\n",
       "    </tr>\n",
       "  </tbody>\n",
       "</table>\n",
       "</div>"
      ],
      "text/plain": [
       "      id                    key   filename\n",
       "0  16019   710x395-392-8505.jpg  16019.jpg\n",
       "1  16020  425x651-195-55783.jpg  16020.jpg"
      ]
     },
     "execution_count": 169,
     "metadata": {},
     "output_type": "execute_result"
    }
   ],
   "source": [
    "test_data.head(2)"
   ]
  },
  {
   "cell_type": "markdown",
   "metadata": {},
   "source": [
    "#### Parsing key column"
   ]
  },
  {
   "cell_type": "code",
   "execution_count": 170,
   "metadata": {
    "tags": []
   },
   "outputs": [],
   "source": [
    "train_keys = pd.DataFrame(\n",
    "    np.column_stack(\n",
    "        train_data['key'].apply(\n",
    "            ImageDataset.get_parsing_key\n",
    "        ).values\n",
    "    ).transpose(),\n",
    "    columns = ['height', 'weight', 'citys']\n",
    ")\n",
    "train_data['height'], train_data['weight'], train_data['citys'] = \\\n",
    "train_keys['height'], train_keys['weight'], train_keys['citys']\n",
    "\n",
    "\n",
    "test_keys = pd.DataFrame(\n",
    "    np.column_stack(\n",
    "        test_data['key'].apply(\n",
    "            ImageDataset.get_parsing_key\n",
    "        ).values\n",
    "    ).transpose(),\n",
    "    columns = ['height', 'weight', 'citys']\n",
    ")\n",
    "test_data['height'], test_data['weight'], test_data['citys'] = \\\n",
    "test_keys['height'], test_keys['weight'], test_keys['citys']"
   ]
  },
  {
   "cell_type": "code",
   "execution_count": 172,
   "metadata": {
    "tags": []
   },
   "outputs": [],
   "source": [
    "train_data, val_data = train_test_split(\n",
    "    train_data,\n",
    "    test_size = VAL_SIZE,\n",
    "    shuffle = True\n",
    ")\n",
    "val_data.to_csv('train.csv')\n",
    "val_data.to_csv('val.csv')"
   ]
  },
  {
   "cell_type": "code",
   "execution_count": 173,
   "metadata": {
    "tags": []
   },
   "outputs": [
    {
     "data": {
      "text/html": [
       "<div>\n",
       "<style scoped>\n",
       "    .dataframe tbody tr th:only-of-type {\n",
       "        vertical-align: middle;\n",
       "    }\n",
       "\n",
       "    .dataframe tbody tr th {\n",
       "        vertical-align: top;\n",
       "    }\n",
       "\n",
       "    .dataframe thead th {\n",
       "        text-align: right;\n",
       "    }\n",
       "</style>\n",
       "<table border=\"1\" class=\"dataframe\">\n",
       "  <thead>\n",
       "    <tr style=\"text-align: right;\">\n",
       "      <th></th>\n",
       "      <th>id</th>\n",
       "      <th>key</th>\n",
       "      <th>filename</th>\n",
       "      <th>distance</th>\n",
       "      <th>height</th>\n",
       "      <th>weight</th>\n",
       "      <th>citys</th>\n",
       "    </tr>\n",
       "  </thead>\n",
       "  <tbody>\n",
       "    <tr>\n",
       "      <th>2302</th>\n",
       "      <td>2302</td>\n",
       "      <td>846x961-132-10279.jpg</td>\n",
       "      <td>2302.jpg</td>\n",
       "      <td>10279</td>\n",
       "      <td>846</td>\n",
       "      <td>961</td>\n",
       "      <td>132</td>\n",
       "    </tr>\n",
       "    <tr>\n",
       "      <th>11204</th>\n",
       "      <td>11204</td>\n",
       "      <td>537x965-245-11649.jpg</td>\n",
       "      <td>11204.jpg</td>\n",
       "      <td>11649</td>\n",
       "      <td>537</td>\n",
       "      <td>965</td>\n",
       "      <td>245</td>\n",
       "    </tr>\n",
       "  </tbody>\n",
       "</table>\n",
       "</div>"
      ],
      "text/plain": [
       "          id                    key   filename  distance  height  weight  \\\n",
       "2302    2302  846x961-132-10279.jpg   2302.jpg     10279     846     961   \n",
       "11204  11204  537x965-245-11649.jpg  11204.jpg     11649     537     965   \n",
       "\n",
       "       citys  \n",
       "2302     132  \n",
       "11204    245  "
      ]
     },
     "execution_count": 173,
     "metadata": {},
     "output_type": "execute_result"
    }
   ],
   "source": [
    "train_data.head(2)"
   ]
  },
  {
   "cell_type": "code",
   "execution_count": 174,
   "metadata": {
    "tags": []
   },
   "outputs": [
    {
     "data": {
      "text/html": [
       "<div>\n",
       "<style scoped>\n",
       "    .dataframe tbody tr th:only-of-type {\n",
       "        vertical-align: middle;\n",
       "    }\n",
       "\n",
       "    .dataframe tbody tr th {\n",
       "        vertical-align: top;\n",
       "    }\n",
       "\n",
       "    .dataframe thead th {\n",
       "        text-align: right;\n",
       "    }\n",
       "</style>\n",
       "<table border=\"1\" class=\"dataframe\">\n",
       "  <thead>\n",
       "    <tr style=\"text-align: right;\">\n",
       "      <th></th>\n",
       "      <th>id</th>\n",
       "      <th>key</th>\n",
       "      <th>filename</th>\n",
       "      <th>distance</th>\n",
       "      <th>height</th>\n",
       "      <th>weight</th>\n",
       "      <th>citys</th>\n",
       "    </tr>\n",
       "  </thead>\n",
       "  <tbody>\n",
       "    <tr>\n",
       "      <th>3420</th>\n",
       "      <td>3420</td>\n",
       "      <td>811x800-383-17473.jpg</td>\n",
       "      <td>3420.jpg</td>\n",
       "      <td>17473</td>\n",
       "      <td>811</td>\n",
       "      <td>800</td>\n",
       "      <td>383</td>\n",
       "    </tr>\n",
       "    <tr>\n",
       "      <th>2309</th>\n",
       "      <td>2309</td>\n",
       "      <td>979x1010-158-79864.jpg</td>\n",
       "      <td>2309.jpg</td>\n",
       "      <td>79864</td>\n",
       "      <td>979</td>\n",
       "      <td>1010</td>\n",
       "      <td>158</td>\n",
       "    </tr>\n",
       "  </tbody>\n",
       "</table>\n",
       "</div>"
      ],
      "text/plain": [
       "        id                     key  filename  distance  height  weight  citys\n",
       "3420  3420   811x800-383-17473.jpg  3420.jpg     17473     811     800    383\n",
       "2309  2309  979x1010-158-79864.jpg  2309.jpg     79864     979    1010    158"
      ]
     },
     "execution_count": 174,
     "metadata": {},
     "output_type": "execute_result"
    }
   ],
   "source": [
    "val_data.head(2)"
   ]
  },
  {
   "cell_type": "code",
   "execution_count": 175,
   "metadata": {
    "tags": []
   },
   "outputs": [
    {
     "data": {
      "text/html": [
       "<div>\n",
       "<style scoped>\n",
       "    .dataframe tbody tr th:only-of-type {\n",
       "        vertical-align: middle;\n",
       "    }\n",
       "\n",
       "    .dataframe tbody tr th {\n",
       "        vertical-align: top;\n",
       "    }\n",
       "\n",
       "    .dataframe thead th {\n",
       "        text-align: right;\n",
       "    }\n",
       "</style>\n",
       "<table border=\"1\" class=\"dataframe\">\n",
       "  <thead>\n",
       "    <tr style=\"text-align: right;\">\n",
       "      <th></th>\n",
       "      <th>id</th>\n",
       "      <th>key</th>\n",
       "      <th>filename</th>\n",
       "      <th>height</th>\n",
       "      <th>weight</th>\n",
       "      <th>citys</th>\n",
       "    </tr>\n",
       "  </thead>\n",
       "  <tbody>\n",
       "    <tr>\n",
       "      <th>0</th>\n",
       "      <td>16019</td>\n",
       "      <td>710x395-392-8505.jpg</td>\n",
       "      <td>16019.jpg</td>\n",
       "      <td>710</td>\n",
       "      <td>395</td>\n",
       "      <td>392</td>\n",
       "    </tr>\n",
       "    <tr>\n",
       "      <th>1</th>\n",
       "      <td>16020</td>\n",
       "      <td>425x651-195-55783.jpg</td>\n",
       "      <td>16020.jpg</td>\n",
       "      <td>425</td>\n",
       "      <td>651</td>\n",
       "      <td>195</td>\n",
       "    </tr>\n",
       "  </tbody>\n",
       "</table>\n",
       "</div>"
      ],
      "text/plain": [
       "      id                    key   filename  height  weight  citys\n",
       "0  16019   710x395-392-8505.jpg  16019.jpg     710     395    392\n",
       "1  16020  425x651-195-55783.jpg  16020.jpg     425     651    195"
      ]
     },
     "execution_count": 175,
     "metadata": {},
     "output_type": "execute_result"
    }
   ],
   "source": [
    "test_data.head(2)"
   ]
  },
  {
   "cell_type": "code",
   "execution_count": 176,
   "metadata": {
    "tags": []
   },
   "outputs": [
    {
     "name": "stdout",
     "output_type": "stream",
     "text": [
      "Train data: (10411, 7)\n",
      "Val data: (5607, 7)\n",
      "Test data: (4005, 6)\n"
     ]
    }
   ],
   "source": [
    "print(f'Train data: {train_data.shape}')\n",
    "print(f'Val data: {val_data.shape}')\n",
    "print(f'Test data: {test_data.shape}')"
   ]
  },
  {
   "cell_type": "markdown",
   "metadata": {},
   "source": [
    "#### Get sample"
   ]
  },
  {
   "cell_type": "code",
   "execution_count": 178,
   "metadata": {
    "tags": []
   },
   "outputs": [],
   "source": [
    "image, label = ImageDataset(\n",
    "    train_data, \n",
    "    filenames[0], \n",
    "    None, \n",
    "    'filename', \n",
    "    'distance'\n",
    ")[0]\n",
    "assert image != f'KeyError: Object by index {label} not found'"
   ]
  },
  {
   "cell_type": "code",
   "execution_count": 197,
   "metadata": {
    "tags": []
   },
   "outputs": [],
   "source": [
    "image, label = ImageDataset(\n",
    "    val_data, \n",
    "    filenames[0], \n",
    "    None, \n",
    "    'filename', \n",
    "    'distance'\n",
    ")[3420]\n",
    "assert image != f'KeyError: Object by index {label} not found'"
   ]
  },
  {
   "cell_type": "code",
   "execution_count": 198,
   "metadata": {
    "tags": []
   },
   "outputs": [],
   "source": [
    "image, index = ImageDataset(\n",
    "    test_data, \n",
    "    filenames[0], \n",
    "    None, \n",
    "    'filename', \n",
    "    'distance',\n",
    "    train_sample = False\n",
    ")[0]\n",
    "assert image != f'KeyError: Object by index {label} not found'"
   ]
  },
  {
   "cell_type": "markdown",
   "metadata": {
    "tags": []
   },
   "source": [
    "### Prepare data for model training"
   ]
  },
  {
   "cell_type": "markdown",
   "metadata": {
    "jp-MarkdownHeadingCollapsed": true,
    "tags": []
   },
   "source": [
    "#### Check distribution of image height and weight"
   ]
  },
  {
   "cell_type": "code",
   "execution_count": 199,
   "metadata": {
    "tags": []
   },
   "outputs": [
    {
     "data": {
      "text/plain": [
       "<matplotlib.legend.Legend at 0x7f96ee99cd00>"
      ]
     },
     "execution_count": 199,
     "metadata": {},
     "output_type": "execute_result"
    },
    {
     "data": {
      "image/png": "[encoded data removed]",
      "text/plain": [
       "<Figure size 432x288 with 1 Axes>"
      ]
     },
     "metadata": {
      "needs_background": "light"
     },
     "output_type": "display_data"
    }
   ],
   "source": [
    "sns.histplot(train_data['weight'], label = 'Обучающая выборка', color='r', alpha = 0.5)\n",
    "sns.histplot(val_data['weight'], label = 'Валидационная выборка', color='g', alpha = 0.5)\n",
    "sns.histplot(test_data['weight'], label = 'Тестовая выборка', color='b', alpha = 0.5)\n",
    "plt.title('Ширина картинок (в пикселях) в выборках')\n",
    "plt.ylabel('Количество')\n",
    "plt.xlabel('Ширина картинок')\n",
    "plt.legend()"
   ]
  },
  {
   "cell_type": "code",
   "execution_count": 200,
   "metadata": {
    "tags": []
   },
   "outputs": [
    {
     "data": {
      "text/plain": [
       "<matplotlib.legend.Legend at 0x7f96dad860a0>"
      ]
     },
     "execution_count": 200,
     "metadata": {},
     "output_type": "execute_result"
    },
    {
     "data": {
      "image/png": "[encoded data removed]",
      "text/plain": [
       "<Figure size 432x288 with 1 Axes>"
      ]
     },
     "metadata": {
      "needs_background": "light"
     },
     "output_type": "display_data"
    }
   ],
   "source": [
    "sns.histplot(train_data['height'], label = 'Обучающая выборка', color='r', alpha = 0.5)\n",
    "sns.histplot(val_data['height'], label = 'Валидационная выборка', color='g', alpha = 0.5)\n",
    "sns.histplot(test_data['height'], label = 'Тестовая выборка', color='b', alpha = 0.5)\n",
    "plt.title('Высота картинок (в пикселях) в выборках')\n",
    "plt.ylabel('Количество')\n",
    "plt.xlabel('Высота картинок')\n",
    "plt.legend()"
   ]
  },
  {
   "cell_type": "markdown",
   "metadata": {},
   "source": [
    "#### Small EDA"
   ]
  },
  {
   "cell_type": "code",
   "execution_count": 201,
   "metadata": {},
   "outputs": [
    {
     "data": {
      "text/plain": [
       "<matplotlib.legend.Legend at 0x7f96da419b50>"
      ]
     },
     "execution_count": 201,
     "metadata": {},
     "output_type": "execute_result"
    },
    {
     "data": {
      "image/png": "[encoded data removed]",
      "text/plain": [
       "<Figure size 432x288 with 1 Axes>"
      ]
     },
     "metadata": {
      "needs_background": "light"
     },
     "output_type": "display_data"
    }
   ],
   "source": [
    "sns.histplot(train_data['distance'], label = 'Обучающая выборка', color = 'g', alpha = 0.70)\n",
    "sns.histplot(val_data['distance'], label = 'Валидационная выборка', color = 'r', alpha = 0.70)\n",
    "plt.title('Распределение дистанции между городами на выборках')\n",
    "plt.ylabel('Количество')\n",
    "plt.xlabel('Дистанция')\n",
    "plt.legend()"
   ]
  },
  {
   "cell_type": "code",
   "execution_count": 202,
   "metadata": {},
   "outputs": [
    {
     "name": "stdout",
     "output_type": "stream",
     "text": [
      "Target median train: 9452.00\n",
      "Target mean train: 17404.87\n",
      "Target std train: 24894.41\n"
     ]
    }
   ],
   "source": [
    "distance_median = train_data['distance'].median()\n",
    "distance_mean = train_data['distance'].mean()\n",
    "distance_std = train_data['distance'].std()\n",
    "\n",
    "print(f'Target median train: {distance_median:.2f}')\n",
    "print(f'Target mean train: {distance_mean:.2f}')\n",
    "print(f'Target std train: {distance_std:.2f}')"
   ]
  },
  {
   "cell_type": "code",
   "execution_count": 203,
   "metadata": {},
   "outputs": [
    {
     "name": "stdout",
     "output_type": "stream",
     "text": [
      "Target median val: 9672.00\n",
      "Target mean val: 18451.49\n",
      "Target std val: 26597.98\n"
     ]
    }
   ],
   "source": [
    "distance_median = val_data['distance'].median()\n",
    "distance_mean = val_data['distance'].mean()\n",
    "distance_std = val_data['distance'].std()\n",
    "\n",
    "print(f'Target median val: {distance_median:.2f}')\n",
    "print(f'Target mean val: {distance_mean:.2f}')\n",
    "print(f'Target std val: {distance_std:.2f}')"
   ]
  },
  {
   "cell_type": "markdown",
   "metadata": {},
   "source": [
    "#### Make datasets"
   ]
  },
  {
   "cell_type": "code",
   "execution_count": 204,
   "metadata": {
    "tags": []
   },
   "outputs": [],
   "source": [
    "train_dataset = ImageDataset(\n",
    "    train_data, \n",
    "    filenames[0], \n",
    "    TRANSFORMS, \n",
    "    'filename', \n",
    "    'distance'\n",
    ")\n",
    "\n",
    "val_dataset = ImageDataset(\n",
    "    val_data, \n",
    "    filenames[0], \n",
    "    TRANSFORMS, \n",
    "    'filename', \n",
    "    'distance'\n",
    ")\n",
    "\n",
    "test_dataset = ImageDataset(\n",
    "    test_data, \n",
    "    filenames[0], \n",
    "    TRANSFORMS, \n",
    "    'filename', \n",
    "    'distance',\n",
    "    train_sample = False\n",
    ")"
   ]
  },
  {
   "cell_type": "markdown",
   "metadata": {
    "tags": []
   },
   "source": [
    "#### Make train and test dataloader's"
   ]
  },
  {
   "cell_type": "code",
   "execution_count": 205,
   "metadata": {
    "tags": []
   },
   "outputs": [],
   "source": [
    "train_loader = torch.utils.data.DataLoader(\n",
    "    train_dataset, \n",
    "    batch_size = 32,\n",
    "    shuffle = True,\n",
    "    num_workers = 2,\n",
    ")\n",
    "\n",
    "val_loader = torch.utils.data.DataLoader(\n",
    "    val_dataset, \n",
    "    batch_size = 32,\n",
    "    shuffle = True,\n",
    "    num_workers = 2,\n",
    ")\n",
    "\n",
    "test_loader = torch.utils.data.DataLoader(\n",
    "    test_dataset, \n",
    "    batch_size = 64,\n",
    "    shuffle = True, \n",
    "    num_workers = 2,\n",
    ")"
   ]
  },
  {
   "cell_type": "markdown",
   "metadata": {
    "tags": []
   },
   "source": [
    "### Modeling"
   ]
  },
  {
   "cell_type": "markdown",
   "metadata": {},
   "source": [
    "#### Define simple Neural Network"
   ]
  },
  {
   "cell_type": "code",
   "execution_count": 32,
   "metadata": {
    "tags": []
   },
   "outputs": [],
   "source": [
    "class Net(nn.Module):\n",
    "    \"\"\"\n",
    "    Torch model class\n",
    "    \"\"\"\n",
    "\n",
    "    def __init__(self):\n",
    "        super().__init__()\n",
    "\n",
    "        self.neural_network = nn.Sequential(\n",
    "            nn.Conv2d(3, 6, (3, 3)),\n",
    "            nn.ReLU(),\n",
    "            nn.MaxPool2d((2, 2), 2),\n",
    "            nn.Conv2d(6, 16, (3, 3)),\n",
    "            nn.ReLU(),\n",
    "            nn.MaxPool2d((2, 2), 2),\n",
    "            nn.Flatten(),\n",
    "            nn.Linear(270400, 128),\n",
    "            nn.ReLU(),\n",
    "            nn.Linear(128, 64),\n",
    "            nn.ReLU(),\n",
    "            nn.Linear(64, 32),\n",
    "            nn.ReLU(),\n",
    "            nn.Linear(32, 1),\n",
    "        )\n",
    "\n",
    "    def forward(self, data: torch.Tensor):\n",
    "        \"\"\"Make prediction on data\n",
    "        Args:\n",
    "            data (tensor): image like tensor\n",
    "        \"\"\"\n",
    "        return self.neural_network(data)\n"
   ]
  },
  {
   "cell_type": "markdown",
   "metadata": {},
   "source": [
    "#### Define model"
   ]
  },
  {
   "cell_type": "code",
   "execution_count": 33,
   "metadata": {
    "tags": []
   },
   "outputs": [
    {
     "name": "stdout",
     "output_type": "stream",
     "text": [
      "Net(\n",
      "  (neural_network): Sequential(\n",
      "    (0): Conv2d(3, 6, kernel_size=(3, 3), stride=(1, 1))\n",
      "    (1): ReLU()\n",
      "    (2): MaxPool2d(kernel_size=(2, 2), stride=2, padding=0, dilation=1, ceil_mode=False)\n",
      "    (3): Conv2d(6, 16, kernel_size=(3, 3), stride=(1, 1))\n",
      "    (4): ReLU()\n",
      "    (5): MaxPool2d(kernel_size=(2, 2), stride=2, padding=0, dilation=1, ceil_mode=False)\n",
      "    (6): Flatten(start_dim=1, end_dim=-1)\n",
      "    (7): Linear(in_features=270400, out_features=128, bias=True)\n",
      "    (8): ReLU()\n",
      "    (9): Linear(in_features=128, out_features=64, bias=True)\n",
      "    (10): ReLU()\n",
      "    (11): Linear(in_features=64, out_features=32, bias=True)\n",
      "    (12): ReLU()\n",
      "    (13): Linear(in_features=32, out_features=1, bias=True)\n",
      "  )\n",
      ")\n"
     ]
    }
   ],
   "source": [
    "baseline = Net().to(device)\n",
    "print(baseline)"
   ]
  },
  {
   "cell_type": "markdown",
   "metadata": {},
   "source": [
    "#### Define optimizer and criterion"
   ]
  },
  {
   "cell_type": "code",
   "execution_count": 35,
   "metadata": {
    "tags": []
   },
   "outputs": [],
   "source": [
    "optimizer = torch.optim.Adam(\n",
    "    baseline.parameters(), \n",
    "    lr = 1e-3\n",
    ")\n",
    "criterion = nn.MSELoss()"
   ]
  },
  {
   "cell_type": "markdown",
   "metadata": {},
   "source": [
    "#### Start learn baseline mode with validation"
   ]
  },
  {
   "cell_type": "markdown",
   "metadata": {},
   "source": [
    "#### Set list's for metrics"
   ]
  },
  {
   "cell_type": "code",
   "execution_count": 209,
   "metadata": {},
   "outputs": [],
   "source": [
    "train_loss = []\n",
    "val_loss = []\n",
    "train_mae = []\n",
    "val_mae = []\n",
    "train_mse = []\n",
    "val_mse = []\n",
    "train_r2 = []\n",
    "val_r2 = []"
   ]
  },
  {
   "cell_type": "code",
   "execution_count": 213,
   "metadata": {
    "tags": []
   },
   "outputs": [],
   "source": [
    "for epoch in range(NUM_EPOCH):    \n",
    "    loss_train = 0\n",
    "    mae_train = 0\n",
    "    mse_train = 0\n",
    "    r2_train = 0\n",
    "    \n",
    "    baseline.train()\n",
    "    for i, data in tqdm.notebook.tqdm(enumerate(train_loader, 0), total = len(train_loader)):\n",
    "        images, labels = data[0].to(device), data[1].to(torch.float32).to(device)\n",
    "        \n",
    "        predictions = baseline.forward(images) # делаем предсказания\n",
    "        loss = criterion(torch.squeeze(predictions), labels) # считаем лосс\n",
    "        loss.backward() # считаем градиенты обратным проходом\n",
    "        optimizer.step() # обновляем параметры сети\n",
    "        optimizer.zero_grad() # обнуляем посчитанные градиенты параметров\n",
    "        \n",
    "        loss_train += float(loss)\n",
    "        mae_train += mean_absolute_error(predictions.cpu().detach().numpy(), labels.cpu().detach().numpy())\n",
    "        mse_train += mean_squared_error(predictions.cpu().detach().numpy(), labels.cpu().detach().numpy())\n",
    "        r2_train += r2_score(predictions.cpu().detach().numpy(), labels.cpu().detach().numpy())\n",
    "        \n",
    "    train_loss.append(loss_train / i)\n",
    "    train_mae.append(mae_train / i)\n",
    "    train_mse.append(mse_train / i)\n",
    "    train_r2.append(r2_train / i)\n",
    "    \n",
    "    baseline.eval()\n",
    "    with torch.no_grad():\n",
    "        loss_val = 0\n",
    "        mae_val = 0\n",
    "        mse_val = 0\n",
    "        r2_val = 0\n",
    "    \n",
    "        for i, data in tqdm.notebook.tqdm(enumerate(val_loader, 0), total = len(val_loader)):\n",
    "            images, labels = data[0].to(device), data[1].to(torch.float32).to(device)\n",
    "            \n",
    "            predictions = baseline.forward(images)\n",
    "            \n",
    "            loss_val_i = criterion(torch.squeeze(predictions), labels)\n",
    "            \n",
    "            loss_val += float(loss_val_i)\n",
    "            mae_val += mean_absolute_error(predictions.cpu().detach().numpy(), labels.cpu().detach().numpy())\n",
    "            mse_val += mean_squared_error(predictions.cpu().detach().numpy(), labels.cpu().detach().numpy())\n",
    "            r2_val += r2_score(predictions.cpu().detach().numpy(), labels.cpu().detach().numpy())\n",
    "        \n",
    "        val_loss.append(loss_val / i)\n",
    "        val_mae.append(mae_val / i)\n",
    "        val_mse.append(mse_val / i)\n",
    "        val_r2.append(r2_val / i)\n",
    "            \n",
    "    clear_output()\n",
    "            \n",
    "    print(f'Epoch: {epoch + 1}')\n",
    "    print(f'\\nLoss:\\n    Train: {np.mean(train_loss):.2f}\\n    Val: {np.mean(val_loss):.2f}')\n",
    "    print(f'\\nMAE:\\n    Train: {np.mean(train_mae):.2f}\\n    Val: {np.mean(val_mae):.2f}')\n",
    "    print(f'\\nMSE:\\n    Train: {np.mean(train_mse):.2f}\\n    Val: {np.mean(val_mse):.2f}')\n",
    "    print(f'\\nR2:\\n    Train: {np.mean(train_r2):.2f}\\n    Val: {np.mean(val_r2):.2f}')\n",
    "    \n",
    "    plot_history(train_loss, val_loss, 'loss')\n",
    "    plot_history(train_mae, val_mae, 'mae')\n",
    "    plot_history(train_mse, val_mse, 'mse')\n",
    "    plot_history(train_r2, val_r2, 'r2') \n",
    "    \n",
    "print('Обучение завершено')"
   ]
  },
  {
   "cell_type": "markdown",
   "metadata": {},
   "source": [
    "#### Check results"
   ]
  },
  {
   "cell_type": "code",
   "execution_count": 69,
   "metadata": {
    "execution": {
     "iopub.execute_input": "2022-05-01T13:15:07.765774Z",
     "iopub.status.busy": "2022-05-01T13:15:07.765498Z",
     "iopub.status.idle": "2022-05-01T13:15:08.128299Z",
     "shell.execute_reply": "2022-05-01T13:15:08.127600Z",
     "shell.execute_reply.started": "2022-05-01T13:15:07.765741Z"
    }
   },
   "outputs": [],
   "source": [
    "plt.plot(train_mae[1:], label = 'Обучающая выборка')\n",
    "plt.plot(val_mae[1:], label = 'Валидационная выборка')\n",
    "plt.title('Средне абсолютная ошибка')\n",
    "plt.ylabel('Значение метрики')\n",
    "plt.xlabel('Номер Эпохи')\n",
    "plt.legend()"
   ]
  },
  {
   "cell_type": "code",
   "execution_count": 68,
   "metadata": {
    "execution": {
     "iopub.execute_input": "2022-05-01T13:14:37.295900Z",
     "iopub.status.busy": "2022-05-01T13:14:37.295346Z",
     "iopub.status.idle": "2022-05-01T13:14:37.624811Z",
     "shell.execute_reply": "2022-05-01T13:14:37.624123Z",
     "shell.execute_reply.started": "2022-05-01T13:14:37.295860Z"
    }
   },
   "outputs": [],
   "source": [
    "plt.plot(train_mse[1:], label = 'Обучающая выборка')\n",
    "plt.plot(val_mse[1:], label = 'Валидационная выборка')\n",
    "plt.title('Среднеквадратичная ошибка')\n",
    "plt.ylabel('Значение метрики')\n",
    "plt.xlabel('Номер Эпохи')\n",
    "plt.legend()"
   ]
  },
  {
   "cell_type": "code",
   "execution_count": 67,
   "metadata": {
    "execution": {
     "iopub.execute_input": "2022-05-01T13:14:19.736574Z",
     "iopub.status.busy": "2022-05-01T13:14:19.736310Z",
     "iopub.status.idle": "2022-05-01T13:14:20.035251Z",
     "shell.execute_reply": "2022-05-01T13:14:20.034564Z",
     "shell.execute_reply.started": "2022-05-01T13:14:19.736545Z"
    }
   },
   "outputs": [],
   "source": [
    "plt.plot(train_r2[1:], label = 'Обучающая выборка')\n",
    "plt.plot(val_r2[1:], label = 'Валидационная выборка')\n",
    "plt.title('R$^2$')\n",
    "plt.ylabel('Значение метрики')\n",
    "plt.xlabel('Номер Эпохи')\n",
    "plt.legend()"
   ]
  },
  {
   "cell_type": "markdown",
   "metadata": {
    "tags": []
   },
   "source": [
    "### Learn final MVP model"
   ]
  },
  {
   "cell_type": "code",
   "execution_count": 39,
   "metadata": {
    "execution": {
     "iopub.execute_input": "2022-05-01T12:25:31.081464Z",
     "iopub.status.busy": "2022-05-01T12:25:31.081083Z",
     "iopub.status.idle": "2022-05-01T13:01:13.300573Z",
     "shell.execute_reply": "2022-05-01T13:01:13.299665Z",
     "shell.execute_reply.started": "2022-05-01T12:25:31.081428Z"
    }
   },
   "outputs": [],
   "source": [
    "%%time\n",
    "\n",
    "train_dataset = ImageDataset(\n",
    "    pd.concat([train_data, val_data]), \n",
    "    filenames[0], \n",
    "    TRANSFORMS, \n",
    "    'filename', \n",
    "    'distance'\n",
    ")\n",
    "\n",
    "train_loader = torch.utils.data.DataLoader(\n",
    "    train_dataset, \n",
    "    batch_size = 32,\n",
    "    shuffle = True,\n",
    "    num_workers = 2,\n",
    ")\n",
    "\n",
    "baseline = Net().to(device)\n",
    "\n",
    "optimizer = torch.optim.Adam(\n",
    "    baseline.parameters(), \n",
    "    lr = 1e-3\n",
    ")\n",
    "criterion = nn.MSELoss()\n",
    "\n",
    "for epoch in range(NUM_EPOCH):\n",
    "    baseline.train()\n",
    "    for i, data in tqdm.notebook.tqdm(enumerate(train_loader, 0), total = len(train_loader)):\n",
    "        images, labels = data[0].to(device), data[1].to(torch.float32).to(device)\n",
    "        \n",
    "        predictions = baseline.forward(images)\n",
    "        loss = criterion(torch.squeeze(predictions), labels)\n",
    "        loss.backward()\n",
    "        optimizer.step()\n",
    "        optimizer.zero_grad()\n",
    "        \n",
    "print('Обучение завершено')"
   ]
  },
  {
   "cell_type": "markdown",
   "metadata": {
    "tags": []
   },
   "source": [
    "### Make predictions"
   ]
  },
  {
   "cell_type": "code",
   "execution_count": 43,
   "metadata": {},
   "outputs": [],
   "source": [
    "def model_inference(\n",
    "    model: torch.nn.modules.module._IncompatibleKeys,\n",
    "    dataloader: torch.utils.data.DataLoader,\n",
    "    device: str = 'cuda',\n",
    "    test_inference: bool = False\n",
    ") -> set:\n",
    "    \"\"\"\n",
    "    Make prediction on sample\n",
    "    \n",
    "    Parameters:\n",
    "        model: pytorch NN model\n",
    "        data_loader: torch dataloader\n",
    "        device: device for computing results\n",
    "        \n",
    "    Return:\n",
    "        Set with label and predictions on dataloader data\n",
    "    \"\"\"\n",
    "    \n",
    "    labels_list = np.array([])\n",
    "    predictions_list = np.array([])\n",
    "    \n",
    "    number_iterations = len(dataloader.dataset) // dataloader.batch_size + 1\n",
    "    \n",
    "    model.to(device)\n",
    "    model.eval()\n",
    "    with torch.no_grad():\n",
    "        logging.info(f'Model sent to {device}, set to eval mode, gradient calculation disabled')\n",
    "        logging.info('Start model inference process')\n",
    "        for i, data in enumerate(dataloader):\n",
    "            logging.info(f'Start iteration: {i}/{number_iterations}')\n",
    "            images, label = data[0].to(device), data[1].cpu().detach().numpy()\n",
    "\n",
    "            predictions = model.forward(images)\n",
    "\n",
    "            predictions = predictions.squeeze().cpu().detach().numpy()\n",
    "            \n",
    "            labels_list = np.append(labels_list, label)\n",
    "            predictions_list = np.append(predictions_list, predictions)\n",
    "        \n",
    "            if test_inference:\n",
    "                logging.info(f'Test inference is {test_inference}')\n",
    "                break\n",
    "\n",
    "    return (labels_list, predictions_list)"
   ]
  },
  {
   "cell_type": "markdown",
   "metadata": {},
   "source": [
    "#### Val sample"
   ]
  },
  {
   "cell_type": "code",
   "execution_count": null,
   "metadata": {},
   "outputs": [],
   "source": [
    "true_label, predicitions = model_inference(baseline, val_loader)"
   ]
  },
  {
   "cell_type": "code",
   "execution_count": null,
   "metadata": {},
   "outputs": [],
   "source": [
    "mae_val_all = mean_absolute_error(true_label, predicitions)\n",
    "mse_val_all = mean_squared_error(true_label, predicitions)\n",
    "r2_val_all = r2_score(true_label, predicitions)\n",
    "\n",
    "print(f'MAE на валидационной выборке: {mae_val_all:.2f}')\n",
    "print(f'MAE на валидационной выборке: {mse_val_all:.2f}')\n",
    "print(f'R2 на валидационной выборке: {r2_val_all:.2f}')"
   ]
  },
  {
   "cell_type": "markdown",
   "metadata": {},
   "source": [
    "#### Test sample"
   ]
  },
  {
   "cell_type": "code",
   "execution_count": 40,
   "metadata": {
    "execution": {
     "iopub.execute_input": "2022-05-01T13:01:13.303053Z",
     "iopub.status.busy": "2022-05-01T13:01:13.302562Z",
     "iopub.status.idle": "2022-05-01T13:02:15.327597Z",
     "shell.execute_reply": "2022-05-01T13:02:15.326798Z",
     "shell.execute_reply.started": "2022-05-01T13:01:13.303009Z"
    }
   },
   "outputs": [],
   "source": [
    "true_label, predicitions = model_inference(baseline, val_loader)"
   ]
  },
  {
   "cell_type": "code",
   "execution_count": 41,
   "metadata": {
    "execution": {
     "iopub.execute_input": "2022-05-01T13:02:15.329367Z",
     "iopub.status.busy": "2022-05-01T13:02:15.329111Z",
     "iopub.status.idle": "2022-05-01T13:02:15.404333Z",
     "shell.execute_reply": "2022-05-01T13:02:15.403706Z",
     "shell.execute_reply.started": "2022-05-01T13:02:15.329333Z"
    }
   },
   "outputs": [],
   "source": [
    "test_predictions = pd.DataFrame.from_dict(\n",
    "    {\n",
    "        'id': true_label.astype('int'),\n",
    "        'distance': predicitions.astype('float32')\n",
    "    }\n",
    ")"
   ]
  },
  {
   "cell_type": "code",
   "execution_count": 54,
   "metadata": {
    "execution": {
     "iopub.execute_input": "2022-05-01T13:09:24.638752Z",
     "iopub.status.busy": "2022-05-01T13:09:24.638177Z",
     "iopub.status.idle": "2022-05-01T13:09:25.745666Z",
     "shell.execute_reply": "2022-05-01T13:09:25.745061Z",
     "shell.execute_reply.started": "2022-05-01T13:09:24.638698Z"
    }
   },
   "outputs": [],
   "source": [
    "sns.histplot(predicitions, label = 'Предсказанное расстояние на тестовой выборке', color = 'r', alpha = 0.5)\n",
    "sns.histplot(train_data['distance'], label = 'Реальное расстояние на обучающей выборке', color = 'g', alpha = 0.5)\n",
    "plt.title('Распределение расстояния между городами на обучающей выборке и предсказанных значений')\n",
    "plt.legend()\n",
    "plt.ylabel('Количество')\n",
    "plt.xlabel('Дистанция')"
   ]
  },
  {
   "cell_type": "code",
   "execution_count": 44,
   "metadata": {
    "execution": {
     "iopub.execute_input": "2022-05-01T13:02:54.288473Z",
     "iopub.status.busy": "2022-05-01T13:02:54.288206Z",
     "iopub.status.idle": "2022-05-01T13:02:54.297891Z",
     "shell.execute_reply": "2022-05-01T13:02:54.297172Z",
     "shell.execute_reply.started": "2022-05-01T13:02:54.288446Z"
    }
   },
   "outputs": [],
   "source": [
    "test_predictions.head(2)"
   ]
  },
  {
   "cell_type": "code",
   "execution_count": 45,
   "metadata": {
    "execution": {
     "iopub.execute_input": "2022-05-01T13:02:55.990841Z",
     "iopub.status.busy": "2022-05-01T13:02:55.990420Z",
     "iopub.status.idle": "2022-05-01T13:02:55.995812Z",
     "shell.execute_reply": "2022-05-01T13:02:55.994814Z",
     "shell.execute_reply.started": "2022-05-01T13:02:55.990806Z"
    }
   },
   "outputs": [],
   "source": [
    "assert test_predictions.shape[0] == test_data.shape[0]"
   ]
  },
  {
   "cell_type": "markdown",
   "metadata": {
    "tags": []
   },
   "source": [
    "### Save model and test predictions"
   ]
  },
  {
   "cell_type": "code",
   "execution_count": 46,
   "metadata": {
    "execution": {
     "iopub.execute_input": "2022-05-01T13:02:59.475762Z",
     "iopub.status.busy": "2022-05-01T13:02:59.475475Z",
     "iopub.status.idle": "2022-05-01T13:02:59.865424Z",
     "shell.execute_reply": "2022-05-01T13:02:59.864699Z",
     "shell.execute_reply.started": "2022-05-01T13:02:59.475712Z"
    }
   },
   "outputs": [],
   "source": [
    "torch.save(baseline.state_dict(), '../models/baseline.torch')\n",
    "test_predictions.to_csv('../data/prediction/test_prediction.csv')"
   ]
  },
  {
   "cell_type": "markdown",
   "metadata": {},
   "source": [
    "### Load model"
   ]
  },
  {
   "cell_type": "code",
   "execution_count": 19,
   "metadata": {},
   "outputs": [],
   "source": [
    "baseline_dict = torch.load('../models/baseline.torch', map_location=torch.device(device))\n",
    "baseline.load_state_dict(baseline_dict)"
   ]
  },
  {
   "cell_type": "markdown",
   "metadata": {},
   "source": [
    "### TO DO:\n",
    "- add function for training with validation\n",
    "- ~~add function for inference~~\n",
    "- test some transofrms for data\n",
    "- test some another algorithms (decision trees, stacking, etc.) "
   ]
  }
 ],
 "metadata": {
  "kernelspec": {
   "display_name": "TSP",
   "language": "python",
   "name": "tsp"
  },
  "language_info": {
   "codemirror_mode": {
    "name": "ipython",
    "version": 3
   },
   "file_extension": ".py",
   "mimetype": "text/x-python",
   "name": "python",
   "nbconvert_exporter": "python",
   "pygments_lexer": "ipython3",
   "version": "3.8.10"
  },
  "widgets": {
   "application/vnd.jupyter.widget-state+json": {
    "state": {},
    "version_major": 2,
    "version_minor": 0
   }
  }
 },
 "nbformat": 4,
 "nbformat_minor": 4
}
